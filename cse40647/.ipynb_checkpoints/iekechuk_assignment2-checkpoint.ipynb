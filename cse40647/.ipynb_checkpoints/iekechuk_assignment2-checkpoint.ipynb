{
 "metadata": {
  "name": "",
  "signature": "sha256:ec091974dc94245a6134fe91a487d172c189d68b6e6aec00e47fb67b521325e2"
 },
 "nbformat": 3,
 "nbformat_minor": 0,
 "worksheets": [
  {
   "cells": [
    {
     "cell_type": "code",
     "collapsed": false,
     "input": [],
     "language": "python",
     "metadata": {},
     "outputs": []
    }
   ],
   "metadata": {}
  }
 ]
}